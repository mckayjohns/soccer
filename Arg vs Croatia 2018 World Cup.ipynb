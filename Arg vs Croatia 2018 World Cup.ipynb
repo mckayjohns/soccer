{
 "cells": [
  {
   "cell_type": "code",
   "execution_count": 2,
   "metadata": {},
   "outputs": [],
   "source": [
    "import pandas as pd\n",
    "import numpy as np\n",
    "import matplotlib.pyplot as plt\n",
    "import FCPython\n",
    "from pprint import pprint\n",
    "import json"
   ]
  },
  {
   "cell_type": "code",
   "execution_count": 3,
   "metadata": {},
   "outputs": [],
   "source": [
    "#read in data from my statsbomb file\n",
    "with open('Statsbomb/data/events/WorldCup/7545.json') as f:\n",
    "    data = json.load(f)"
   ]
  },
  {
   "cell_type": "code",
   "execution_count": 4,
   "metadata": {},
   "outputs": [],
   "source": [
    "#Ability to look at all the data. I use this so I can look at the data while I am doing it. \n",
    "#We use pretty print to look at the json file cleanly.\n",
    "#pprint(data)"
   ]
  },
  {
   "cell_type": "code",
   "execution_count": 5,
   "metadata": {},
   "outputs": [],
   "source": [
    "minute = []\n",
    "team = []\n",
    "player = []\n",
    "ball_type = []\n",
    "location = []\n",
    "xG = []\n",
    "outcome = []\n",
    "col_names = ['Minute','Team','Player','Type','Location','xG','Outcome']\n",
    "for x in range(len(data)):\n",
    "    if data[x]['type']['name'] == 'Shot':\n",
    "        minute.append(data[x]['minute'])\n",
    "        team.append(data[x]['possession_team']['name'])\n",
    "        player.append(data[x]['player']['name'])\n",
    "        ball_type.append(data[x]['type']['name'])\n",
    "        location.append(data[x]['location'])\n",
    "        xG.append(data[x]['shot']['statsbomb_xg'])\n",
    "        outcome.append(data[x]['shot']['outcome']['name'])        "
   ]
  },
  {
   "cell_type": "code",
   "execution_count": 6,
   "metadata": {},
   "outputs": [
    {
     "data": {
      "text/html": [
       "<div>\n",
       "<style scoped>\n",
       "    .dataframe tbody tr th:only-of-type {\n",
       "        vertical-align: middle;\n",
       "    }\n",
       "\n",
       "    .dataframe tbody tr th {\n",
       "        vertical-align: top;\n",
       "    }\n",
       "\n",
       "    .dataframe thead th {\n",
       "        text-align: right;\n",
       "    }\n",
       "</style>\n",
       "<table border=\"1\" class=\"dataframe\">\n",
       "  <thead>\n",
       "    <tr style=\"text-align: right;\">\n",
       "      <th></th>\n",
       "      <th>Minute</th>\n",
       "      <th>Team</th>\n",
       "      <th>Player</th>\n",
       "      <th>Type</th>\n",
       "      <th>Location</th>\n",
       "      <th>xG</th>\n",
       "      <th>Outcome</th>\n",
       "    </tr>\n",
       "  </thead>\n",
       "  <tbody>\n",
       "    <tr>\n",
       "      <th>0</th>\n",
       "      <td>4</td>\n",
       "      <td>Croatia</td>\n",
       "      <td>Ivan Perišić</td>\n",
       "      <td>Shot</td>\n",
       "      <td>[109.0, 27.0]</td>\n",
       "      <td>0.0533664</td>\n",
       "      <td>Saved</td>\n",
       "    </tr>\n",
       "    <tr>\n",
       "      <th>1</th>\n",
       "      <td>12</td>\n",
       "      <td>Argentina</td>\n",
       "      <td>Maximiliano Eduardo Meza</td>\n",
       "      <td>Shot</td>\n",
       "      <td>[104.0, 41.0]</td>\n",
       "      <td>0.0721285</td>\n",
       "      <td>Blocked</td>\n",
       "    </tr>\n",
       "    <tr>\n",
       "      <th>2</th>\n",
       "      <td>20</td>\n",
       "      <td>Croatia</td>\n",
       "      <td>Marcelo Brozović</td>\n",
       "      <td>Shot</td>\n",
       "      <td>[87.0, 35.0]</td>\n",
       "      <td>0.0158844</td>\n",
       "      <td>Blocked</td>\n",
       "    </tr>\n",
       "    <tr>\n",
       "      <th>3</th>\n",
       "      <td>29</td>\n",
       "      <td>Argentina</td>\n",
       "      <td>Enzo Nicolás Pérez</td>\n",
       "      <td>Shot</td>\n",
       "      <td>[106.0, 33.0]</td>\n",
       "      <td>0.180404</td>\n",
       "      <td>Off T</td>\n",
       "    </tr>\n",
       "    <tr>\n",
       "      <th>4</th>\n",
       "      <td>32</td>\n",
       "      <td>Croatia</td>\n",
       "      <td>Mario Mandžukić</td>\n",
       "      <td>Shot</td>\n",
       "      <td>[115.0, 34.0]</td>\n",
       "      <td>0.29297</td>\n",
       "      <td>Off T</td>\n",
       "    </tr>\n",
       "  </tbody>\n",
       "</table>\n",
       "</div>"
      ],
      "text/plain": [
       "  Minute       Team                    Player  Type       Location         xG  \\\n",
       "0      4    Croatia              Ivan Perišić  Shot  [109.0, 27.0]  0.0533664   \n",
       "1     12  Argentina  Maximiliano Eduardo Meza  Shot  [104.0, 41.0]  0.0721285   \n",
       "2     20    Croatia          Marcelo Brozović  Shot   [87.0, 35.0]  0.0158844   \n",
       "3     29  Argentina        Enzo Nicolás Pérez  Shot  [106.0, 33.0]   0.180404   \n",
       "4     32    Croatia           Mario Mandžukić  Shot  [115.0, 34.0]    0.29297   \n",
       "\n",
       "   Outcome  \n",
       "0    Saved  \n",
       "1  Blocked  \n",
       "2  Blocked  \n",
       "3    Off T  \n",
       "4    Off T  "
      ]
     },
     "execution_count": 6,
     "metadata": {},
     "output_type": "execute_result"
    }
   ],
   "source": [
    "'''\n",
    "Here we create the data frame with pandas. The data we read in will come in reverse in terms of the columns and rows so\n",
    "we want to transpose it to flip columns and rows.\n",
    "'''\n",
    "\n",
    "df = pd.DataFrame(data=[minute,team,player,ball_type,location,xG,outcome],index=col_names)\n",
    "df = df.T\n",
    "df.head()"
   ]
  },
  {
   "cell_type": "code",
   "execution_count": 22,
   "metadata": {},
   "outputs": [
    {
     "data": {
      "text/plain": [
       "Text(0.5, 1.0, 'Argentina vs Croatia 2018 WC Shot Map')"
      ]
     },
     "execution_count": 22,
     "metadata": {},
     "output_type": "execute_result"
    },
    {
     "data": {
      "image/png": "[encoded data removed]",
      "text/plain": [
       "<Figure size 504x360 with 1 Axes>"
      ]
     },
     "metadata": {},
     "output_type": "display_data"
    }
   ],
   "source": [
    "#Create figure\n",
    "fig=plt.figure()\n",
    "fig.set_size_inches(7, 5)\n",
    "ax=fig.add_subplot(1,1,1)\n",
    "\n",
    "#Pitch Outline & Centre Line\n",
    "plt.plot([0,0],[0,82], color=\"white\")\n",
    "plt.plot([0,122],[82,82], color=\"white\")\n",
    "plt.plot([122,122],[82,0], color=\"white\")\n",
    "plt.plot([122,0],[0,0], color=\"white\")\n",
    "plt.plot([61,61],[0,82], color=\"white\")\n",
    "\n",
    "#Left Penalty Area\n",
    "plt.plot([16.5,16.5],[57,25],color=\"white\")\n",
    "plt.plot([0,16.5],[57,57],color=\"white\")\n",
    "plt.plot([16.5,0],[25,25],color=\"white\")\n",
    "\n",
    "#Right Penalty Area\n",
    "plt.plot([122,105.5],[57,57],color=\"white\")\n",
    "plt.plot([105.5,105.5],[57,25],color=\"white\")\n",
    "plt.plot([105.5,122],[25,25],color=\"white\")\n",
    "\n",
    "#Left 6-yard Box\n",
    "plt.plot([0,5.5],[50,50],color=\"white\")\n",
    "plt.plot([5.5,5.5],[50,32],color=\"white\")\n",
    "plt.plot([5.5,0.5],[32,32],color=\"white\")\n",
    "\n",
    "#Right 6-yard Box\n",
    "plt.plot([122,116.5],[50,50],color=\"white\")\n",
    "plt.plot([116.5,116.5],[50,32],color=\"white\")\n",
    "plt.plot([122,116.5],[32,32],color=\"white\")\n",
    "\n",
    "#Prepare Circles\n",
    "centreCircle = plt.Circle((61,41),9.15,color=\"white\",fill=False)\n",
    "centreSpot = plt.Circle((61,41),0.8,color=\"white\")\n",
    "leftPenSpot = plt.Circle((11,41),0.8,color=\"white\")\n",
    "rightPenSpot = plt.Circle((111,41),0.8,color=\"white\")\n",
    "\n",
    "#Draw Circles\n",
    "ax.add_patch(centreCircle)\n",
    "ax.add_patch(centreSpot)\n",
    "ax.add_patch(leftPenSpot)\n",
    "ax.add_patch(rightPenSpot)\n",
    "\n",
    "#Tidy Axes\n",
    "plt.axis('off')\n",
    "plt.style.use('dark_background')\n",
    "#plt.scatter(cx,cy,color='blue',label='Argentina')\n",
    "#plt.scatter(mx,my,color='red',label='Iceland')\n",
    "\n",
    "a_label = 'Argentina'\n",
    "b_label = 'Croatia'\n",
    "for x in range(len(df['Location'])):\n",
    "    if df['Team'][x] == 'Argentina':\n",
    "        plt.scatter(df['Location'][x][0],df['Location'][x][1],color='blue',label=a_label)\n",
    "        a_label = \"_nolegend_\"\n",
    "    if df['Team'][x] == 'Croatia':\n",
    "        plt.scatter(df['Location'][x][0],df['Location'][x][1],color='red',label=b_label)\n",
    "        b_label = \"_nolegend_\"\n",
    "        \n",
    "plt.legend(loc='lower right',framealpha=1)\n",
    "plt.title('Argentina vs Croatia 2018 WC Shot Map')\n",
    "        "
   ]
  },
  {
   "cell_type": "code",
   "execution_count": 14,
   "metadata": {},
   "outputs": [],
   "source": [
    "a_xG = []\n",
    "b_xG = []\n",
    "a_min = []\n",
    "b_min = []\n",
    "\n",
    "for x in range(len(df['xG'])):\n",
    "    if df['Team'][x]=='Argentina':\n",
    "        a_xG.append((df['xG'][x]))\n",
    "        a_min.append(df['Minute'][x])\n",
    "    if df['Team'][x]=='Croatia':\n",
    "        b_xG.append((df['xG'][x]))\n",
    "        b_min.append(df['Minute'][x])"
   ]
  },
  {
   "cell_type": "code",
   "execution_count": 15,
   "metadata": {},
   "outputs": [],
   "source": [
    "def nums_cumulative_sum(nums_list):\n",
    "  return [sum(nums_list[:i+1]) for i in range(len(nums_list))]"
   ]
  },
  {
   "cell_type": "code",
   "execution_count": 16,
   "metadata": {},
   "outputs": [],
   "source": [
    "a_xG = nums_cumulative_sum(a_xG)\n",
    "b_xG = nums_cumulative_sum(b_xG)"
   ]
  },
  {
   "cell_type": "code",
   "execution_count": 19,
   "metadata": {},
   "outputs": [
    {
     "data": {
      "text/plain": [
       "<matplotlib.legend.Legend at 0x7fb3b4391110>"
      ]
     },
     "execution_count": 19,
     "metadata": {},
     "output_type": "execute_result"
    },
    {
     "data": {
      "image/png": "[encoded data removed]",
      "text/plain": [
       "<Figure size 432x288 with 1 Axes>"
      ]
     },
     "metadata": {},
     "output_type": "display_data"
    }
   ],
   "source": [
    "plt.title('Argentina vs Croatia 2018 WC xG Flow')\n",
    "plt.step(a_min,a_xG,color='Blue',label='Argentina')\n",
    "plt.step(b_min,b_xG,color='Red',label='Croatia')\n",
    "plt.plot([a_min[-1],b_min[-1]],[b_xG[-1],b_xG[-1]],color='red')\n",
    "plt.xlabel('Minute')\n",
    "plt.ylabel('xG')\n",
    "plt.legend()"
   ]
  },
  {
   "cell_type": "code",
   "execution_count": null,
   "metadata": {},
   "outputs": [],
   "source": []
  }
 ],
 "metadata": {
  "kernelspec": {
   "display_name": "Python 3",
   "language": "python",
   "name": "python3"
  },
  "language_info": {
   "codemirror_mode": {
    "name": "ipython",
    "version": 3
   },
   "file_extension": ".py",
   "mimetype": "text/x-python",
   "name": "python",
   "nbconvert_exporter": "python",
   "pygments_lexer": "ipython3",
   "version": "3.7.6"
  }
 },
 "nbformat": 4,
 "nbformat_minor": 4
}
