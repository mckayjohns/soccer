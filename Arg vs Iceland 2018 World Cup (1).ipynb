{
 "cells": [
  {
   "cell_type": "code",
   "execution_count": 314,
   "metadata": {},
   "outputs": [],
   "source": [
    "import pandas as pd\n",
    "import numpy as np\n",
    "import matplotlib.pyplot as plt\n",
    "import FCPython\n",
    "from pprint import pprint\n",
    "import json"
   ]
  },
  {
   "cell_type": "code",
   "execution_count": 315,
   "metadata": {},
   "outputs": [],
   "source": [
    "#read in data from my statsbomb file\n",
    "with open('Statsbomb/data/events/WorldCup/7531.json') as f:\n",
    "    data = json.load(f)"
   ]
  },
  {
   "cell_type": "code",
   "execution_count": 316,
   "metadata": {},
   "outputs": [],
   "source": [
    "#Ability to look at all the data. I use this so I can look at the data while I am doing it. \n",
    "#We use pretty print to look at the json file cleanly.\n",
    "#pprint(data)"
   ]
  },
  {
   "cell_type": "code",
   "execution_count": 317,
   "metadata": {},
   "outputs": [],
   "source": [
    "minute = []\n",
    "team = []\n",
    "player = []\n",
    "ball_type = []\n",
    "location = []\n",
    "xG = []\n",
    "outcome = []\n",
    "col_names = ['Minute','Team','Player','Type','Location','xG','Outcome']\n",
    "for x in range(len(data)):\n",
    "    if data[x]['type']['name'] == 'Shot':\n",
    "        minute.append(data[x]['minute'])\n",
    "        team.append(data[x]['possession_team']['name'])\n",
    "        player.append(data[x]['player']['name'])\n",
    "        ball_type.append(data[x]['type']['name'])\n",
    "        location.append(data[x]['location'])\n",
    "        xG.append(data[x]['shot']['statsbomb_xg'])\n",
    "        outcome.append(data[x]['shot']['outcome']['name'])        "
   ]
  },
  {
   "cell_type": "code",
   "execution_count": 318,
   "metadata": {},
   "outputs": [
    {
     "data": {
      "text/html": [
       "<div>\n",
       "<style scoped>\n",
       "    .dataframe tbody tr th:only-of-type {\n",
       "        vertical-align: middle;\n",
       "    }\n",
       "\n",
       "    .dataframe tbody tr th {\n",
       "        vertical-align: top;\n",
       "    }\n",
       "\n",
       "    .dataframe thead th {\n",
       "        text-align: right;\n",
       "    }\n",
       "</style>\n",
       "<table border=\"1\" class=\"dataframe\">\n",
       "  <thead>\n",
       "    <tr style=\"text-align: right;\">\n",
       "      <th></th>\n",
       "      <th>Minute</th>\n",
       "      <th>Team</th>\n",
       "      <th>Player</th>\n",
       "      <th>Type</th>\n",
       "      <th>Location</th>\n",
       "      <th>xG</th>\n",
       "      <th>Outcome</th>\n",
       "    </tr>\n",
       "  </thead>\n",
       "  <tbody>\n",
       "    <tr>\n",
       "      <th>0</th>\n",
       "      <td>0</td>\n",
       "      <td>Iceland</td>\n",
       "      <td>Gylfi Þór Sigurðsson</td>\n",
       "      <td>Shot</td>\n",
       "      <td>[96.0, 53.0]</td>\n",
       "      <td>0.0214323</td>\n",
       "      <td>Off T</td>\n",
       "    </tr>\n",
       "    <tr>\n",
       "      <th>1</th>\n",
       "      <td>4</td>\n",
       "      <td>Argentina</td>\n",
       "      <td>Nicolás Hernán Otamendi</td>\n",
       "      <td>Shot</td>\n",
       "      <td>[111.0, 43.0]</td>\n",
       "      <td>0.148515</td>\n",
       "      <td>Off T</td>\n",
       "    </tr>\n",
       "    <tr>\n",
       "      <th>2</th>\n",
       "      <td>7</td>\n",
       "      <td>Argentina</td>\n",
       "      <td>Nicolás Alejandro Tagliafico</td>\n",
       "      <td>Shot</td>\n",
       "      <td>[105.0, 45.0]</td>\n",
       "      <td>0.0241709</td>\n",
       "      <td>Off T</td>\n",
       "    </tr>\n",
       "    <tr>\n",
       "      <th>3</th>\n",
       "      <td>8</td>\n",
       "      <td>Iceland</td>\n",
       "      <td>Alfreð Finnbogason</td>\n",
       "      <td>Shot</td>\n",
       "      <td>[115.0, 57.0]</td>\n",
       "      <td>0.0608888</td>\n",
       "      <td>Off T</td>\n",
       "    </tr>\n",
       "    <tr>\n",
       "      <th>4</th>\n",
       "      <td>8</td>\n",
       "      <td>Iceland</td>\n",
       "      <td>Johann Berg Guðmunds­son</td>\n",
       "      <td>Shot</td>\n",
       "      <td>[100.0, 54.0]</td>\n",
       "      <td>0.0436354</td>\n",
       "      <td>Blocked</td>\n",
       "    </tr>\n",
       "  </tbody>\n",
       "</table>\n",
       "</div>"
      ],
      "text/plain": [
       "  Minute       Team                        Player  Type       Location  \\\n",
       "0      0    Iceland          Gylfi Þór Sigurðsson  Shot   [96.0, 53.0]   \n",
       "1      4  Argentina       Nicolás Hernán Otamendi  Shot  [111.0, 43.0]   \n",
       "2      7  Argentina  Nicolás Alejandro Tagliafico  Shot  [105.0, 45.0]   \n",
       "3      8    Iceland            Alfreð Finnbogason  Shot  [115.0, 57.0]   \n",
       "4      8    Iceland      Johann Berg Guðmunds­son  Shot  [100.0, 54.0]   \n",
       "\n",
       "          xG  Outcome  \n",
       "0  0.0214323    Off T  \n",
       "1   0.148515    Off T  \n",
       "2  0.0241709    Off T  \n",
       "3  0.0608888    Off T  \n",
       "4  0.0436354  Blocked  "
      ]
     },
     "execution_count": 318,
     "metadata": {},
     "output_type": "execute_result"
    }
   ],
   "source": [
    "'''\n",
    "Here we create the data frame with pandas. The data we read in will come in reverse in terms of the columns and rows so\n",
    "we want to transpose it to flip columns and rows.\n",
    "'''\n",
    "\n",
    "df = pd.DataFrame(data=[minute,team,player,ball_type,location,xG,outcome],index=col_names)\n",
    "df = df.T\n",
    "df.head()"
   ]
  },
  {
   "cell_type": "code",
   "execution_count": 319,
   "metadata": {},
   "outputs": [
    {
     "data": {
      "text/plain": [
       "<matplotlib.legend.Legend at 0x7f809e16b690>"
      ]
     },
     "execution_count": 319,
     "metadata": {},
     "output_type": "execute_result"
    },
    {
     "data": {
      "image/png": "[encoded data removed]",
      "text/plain": [
       "<Figure size 504x360 with 1 Axes>"
      ]
     },
     "metadata": {},
     "output_type": "display_data"
    }
   ],
   "source": [
    "#Create figure\n",
    "fig=plt.figure()\n",
    "fig.set_size_inches(7, 5)\n",
    "ax=fig.add_subplot(1,1,1)\n",
    "\n",
    "#Pitch Outline & Centre Line\n",
    "plt.plot([0,0],[0,82], color=\"white\")\n",
    "plt.plot([0,122],[82,82], color=\"white\")\n",
    "plt.plot([122,122],[82,0], color=\"white\")\n",
    "plt.plot([122,0],[0,0], color=\"white\")\n",
    "plt.plot([61,61],[0,82], color=\"white\")\n",
    "\n",
    "#Left Penalty Area\n",
    "plt.plot([16.5,16.5],[57,25],color=\"white\")\n",
    "plt.plot([0,16.5],[57,57],color=\"white\")\n",
    "plt.plot([16.5,0],[25,25],color=\"white\")\n",
    "\n",
    "#Right Penalty Area\n",
    "plt.plot([122,105.5],[57,57],color=\"white\")\n",
    "plt.plot([105.5,105.5],[57,25],color=\"white\")\n",
    "plt.plot([105.5,122],[25,25],color=\"white\")\n",
    "\n",
    "#Left 6-yard Box\n",
    "plt.plot([0,5.5],[50,50],color=\"white\")\n",
    "plt.plot([5.5,5.5],[50,32],color=\"white\")\n",
    "plt.plot([5.5,0.5],[32,32],color=\"white\")\n",
    "\n",
    "#Right 6-yard Box\n",
    "plt.plot([122,116.5],[50,50],color=\"white\")\n",
    "plt.plot([116.5,116.5],[50,32],color=\"white\")\n",
    "plt.plot([122,116.5],[32,32],color=\"white\")\n",
    "\n",
    "#Prepare Circles\n",
    "centreCircle = plt.Circle((61,41),9.15,color=\"white\",fill=False)\n",
    "centreSpot = plt.Circle((61,41),0.8,color=\"white\")\n",
    "leftPenSpot = plt.Circle((11,41),0.8,color=\"white\")\n",
    "rightPenSpot = plt.Circle((111,41),0.8,color=\"white\")\n",
    "\n",
    "#Draw Circles\n",
    "ax.add_patch(centreCircle)\n",
    "ax.add_patch(centreSpot)\n",
    "ax.add_patch(leftPenSpot)\n",
    "ax.add_patch(rightPenSpot)\n",
    "\n",
    "#Tidy Axes\n",
    "plt.axis('off')\n",
    "plt.style.use('dark_background')\n",
    "#plt.scatter(cx,cy,color='blue',label='Argentina')\n",
    "#plt.scatter(mx,my,color='red',label='Iceland')\n",
    "\n",
    "a_label = 'Argentina'\n",
    "b_label = 'Iceland'\n",
    "for x in range(len(df['Location'])):\n",
    "    if df['Team'][x] == 'Argentina':\n",
    "        plt.scatter(df['Location'][x][0],df['Location'][x][1],color='blue',label=a_label)\n",
    "        a_label = \"_nolegend_\"\n",
    "    if df['Team'][x] == 'Iceland':\n",
    "        plt.scatter(df['Location'][x][0],df['Location'][x][1],color='red',label=b_label)\n",
    "        b_label = \"_nolegend_\"\n",
    "        \n",
    "plt.legend(loc='lower right',facecolor='black',framealpha=1)\n",
    "        "
   ]
  },
  {
   "cell_type": "code",
   "execution_count": null,
   "metadata": {},
   "outputs": [],
   "source": []
  }
 ],
 "metadata": {
  "kernelspec": {
   "display_name": "Python 3",
   "language": "python",
   "name": "python3"
  },
  "language_info": {
   "codemirror_mode": {
    "name": "ipython",
    "version": 3
   },
   "file_extension": ".py",
   "mimetype": "text/x-python",
   "name": "python",
   "nbconvert_exporter": "python",
   "pygments_lexer": "ipython3",
   "version": "3.7.6"
  }
 },
 "nbformat": 4,
 "nbformat_minor": 4
}
