{
 "cells": [
  {
   "cell_type": "code",
   "execution_count": 1,
   "metadata": {},
   "outputs": [],
   "source": [
    "import pandas as pd\n",
    "import numpy as np\n",
    "import matplotlib.pyplot as plt\n",
    "from mplsoccer.pitch import Pitch\n",
    "import seaborn as sns\n",
    "import requests \n",
    "from bs4 import BeautifulSoup\n",
    "import json\n",
    "from pprint import pprint\n",
    "import matplotlib.image as mpimg\n",
    "import matplotlib.patches as patches\n",
    "from PIL import Image\n",
    "from io import BytesIO\n",
    "from highlight_text import htext\n",
    "import matplotlib as mpl"
   ]
  },
  {
   "cell_type": "code",
   "execution_count": 2,
   "metadata": {},
   "outputs": [],
   "source": [
    "data = pd.read_csv('result.csv')"
   ]
  },
  {
   "cell_type": "code",
   "execution_count": 3,
   "metadata": {},
   "outputs": [],
   "source": [
    "messi = 11119\n",
    "riqui = 372827\n",
    "fati = 382234\n",
    "barca = 65\n",
    "r_data = data[data[\"playerId\"]==fati]\n",
    "#r_data"
   ]
  },
  {
   "cell_type": "code",
   "execution_count": 4,
   "metadata": {},
   "outputs": [],
   "source": [
    "xstart = []\n",
    "ystart = []\n",
    "xend = []\n",
    "yend = []\n",
    "names = ['x','y']\n",
    "\n",
    "passes = r_data.loc[r_data['type/displayName'] == 'Pass'] # select rows based on condition\n",
    "xstart = passes['x'].values #df -> np.array\n",
    "ystart = passes['y'].values\n",
    "    \n",
    "df = pd.DataFrame(data=[xstart,ystart],index=names)\n",
    "df = df.T"
   ]
  },
  {
   "cell_type": "code",
   "execution_count": 5,
   "metadata": {},
   "outputs": [],
   "source": [
    "#df"
   ]
  },
  {
   "cell_type": "code",
   "execution_count": 6,
   "metadata": {},
   "outputs": [],
   "source": [
    "def draw_field():\n",
    "    #create basic lines\n",
    "    plt.plot([0,0],[0,100],color='white')\n",
    "    plt.plot([0,100],[0,0],color='white')\n",
    "    plt.plot([100,0],[100,100],color='white')\n",
    "    plt.plot([100,100],[0,100],color='white')\n",
    "    plt.plot([50,50],[0,100],color='white')\n",
    "    #right side box\n",
    "    #inner\n",
    "    plt.plot([94,94],[56,44],color='white')\n",
    "    plt.plot([94,100],[56,56],color='white')\n",
    "    plt.plot([94,100],[44,44],color='white')\n",
    "    plt.scatter(88,50,color='white',s=10)\n",
    "\n",
    "    #outer\n",
    "    plt.plot([82,82],[72,28],color='white')\n",
    "    plt.plot([82,100],[72,72],color='white')\n",
    "    plt.plot([82,100],[28,28],color='white')\n",
    "\n",
    "    #left side box\n",
    "    #inner\n",
    "    plt.plot([0,6],[56,56],color='white')\n",
    "    plt.plot([0,6],[44,44],color='white')\n",
    "    plt.plot([6,6],[56,44],color='white')\n",
    "    plt.scatter(12,50,color='white',s=10)\n",
    "\n",
    "    #Outer\n",
    "    plt.plot([18,18],[72,28],color='white')\n",
    "    plt.plot([0,18],[72,72],color='white')\n",
    "    plt.plot([0,18],[28,28],color='white')\n",
    "    \n",
    "    #Middle\n",
    "    mid = plt.Circle((50,50),9,color='white',fill=False,linewidth=2)\n",
    "    midpoint= plt.Circle((50,50),1,color='white',fill=True)\n",
    "    ax.add_artist(mid)\n",
    "    ax.add_artist(midpoint)\n",
    "    \n",
    "    plt.axis('off')"
   ]
  },
  {
   "cell_type": "markdown",
   "metadata": {},
   "source": [
    "Code to create the passing heatmaps"
   ]
  },
  {
   "cell_type": "code",
   "execution_count": 7,
   "metadata": {},
   "outputs": [
    {
     "data": {
      "text/plain": [
       "<matplotlib.legend.Legend at 0x7f827b4a7350>"
      ]
     },
     "execution_count": 7,
     "metadata": {},
     "output_type": "execute_result"
    },
    {
     "data": {
      "image/png": "[encoded data removed]",
      "text/plain": [
       "<Figure size 504x360 with 1 Axes>"
      ]
     },
     "metadata": {
      "needs_background": "light"
     },
     "output_type": "display_data"
    }
   ],
   "source": [
    "fig, ax = plt.subplots()\n",
    "fig.set_size_inches(7, 5)\n",
    "\n",
    "kde = sns.kdeplot(xstart,\n",
    "            ystart,\n",
    "            shade=True,\n",
    "            cmap = 'coolwarm',\n",
    "            shade_lowest=False\n",
    "            )\n",
    "\n",
    "draw_field()\n",
    "plt.scatter(df['x'], df['y'], color='navy',label='Pass Locations') #you can pass arrays and dataframes here\n",
    "    \n",
    "plt.title('Ansu Fati Passing Heatmap vs Germany',fontname='Andale Mono',fontsize=18)\n",
    "plt.axis('off')\n",
    "plt.ylim(0, 100) # need this, otherwise plot will go outside\n",
    "plt.xlim(0, 100)\n",
    "plt.legend()\n",
    "\n",
    "#plt.savefig('riqui2.png', dpi=300)"
   ]
  },
  {
   "cell_type": "markdown",
   "metadata": {},
   "source": [
    "# Code to create xG flow"
   ]
  },
  {
   "cell_type": "code",
   "execution_count": 8,
   "metadata": {},
   "outputs": [
    {
     "name": "stdout",
     "output_type": "stream",
     "text": [
      "Please enter the match id: 12335\n"
     ]
    }
   ],
   "source": [
    "base_url = 'https://understat.com/match/'\n",
    "match = str(input('Please enter the match id: '))\n",
    "url = base_url+match"
   ]
  },
  {
   "cell_type": "code",
   "execution_count": 9,
   "metadata": {},
   "outputs": [],
   "source": [
    "res = requests.get(url)\n",
    "soup = BeautifulSoup(res.content, \"lxml\")\n",
    "scripts = soup.find_all('script')"
   ]
  },
  {
   "cell_type": "code",
   "execution_count": 10,
   "metadata": {},
   "outputs": [],
   "source": [
    "string_with_json_obj = '' \n",
    "# Find data for teams \n",
    "for el in scripts: \n",
    "    if 'shotsData' in el.text: \n",
    "        string_with_json_obj = el.text.strip()\n",
    "#print(string_with_json_obj)\n",
    "\n",
    "# strip unnecessary symbols and get only JSON data \n",
    "ind_start = string_with_json_obj.index(\"('\")+2 \n",
    "ind_end = string_with_json_obj.index(\"')\") \n",
    "json_data = string_with_json_obj[ind_start:ind_end] \n",
    "json_data = json_data.encode('utf8').decode('unicode_escape')\n",
    "\n",
    "#convert string to json format\n",
    "data = json.loads(json_data) "
   ]
  },
  {
   "cell_type": "code",
   "execution_count": 11,
   "metadata": {},
   "outputs": [],
   "source": [
    "#Create Dataframe\n",
    "x_under = []\n",
    "y_under = []\n",
    "min_under = []\n",
    "result_under = []\n",
    "xG_under = []\n",
    "player_under = []\n",
    "team_under = []\n",
    "dataa = data['a']\n",
    "datah = data['h']\n",
    "names = ['x','y','minute','team','xG','player','result']\n",
    "\n",
    "for index in range(len(datah)):\n",
    "    for key in datah[index]:\n",
    "        if key == 'X':\n",
    "            x_under.append(datah[index][key])\n",
    "        if key == 'Y':\n",
    "            y_under.append(datah[index][key])\n",
    "        if key == 'minute':\n",
    "            min_under.append(datah[index][key])\n",
    "        if key == 'h_team':\n",
    "            team_under.append(datah[index][key])\n",
    "        if key == 'xG':\n",
    "            xG_under.append(datah[index][key])\n",
    "        if key == 'player':\n",
    "            player_under.append(datah[index][key])\n",
    "        if key == 'result':\n",
    "            result_under.append(datah[index][key])\n",
    "            \n",
    "for index in range(len(dataa)):\n",
    "    for key in dataa[index]:\n",
    "        if key == 'X':\n",
    "            x_under.append(1 - float(dataa[index][key]))\n",
    "        if key == 'Y':\n",
    "            y_under.append(1 - float(dataa[index][key]))\n",
    "        if key == 'minute':\n",
    "            min_under.append(dataa[index][key])\n",
    "        if key == 'a_team':\n",
    "            team_under.append(dataa[index][key])\n",
    "        if key == 'xG':\n",
    "            xG_under.append(dataa[index][key])\n",
    "        if key == 'player':\n",
    "            player_under.append(dataa[index][key])\n",
    "        if key == 'result':\n",
    "            result_under.append(dataa[index][key])\n",
    "            \n"
   ]
  },
  {
   "cell_type": "code",
   "execution_count": 12,
   "metadata": {},
   "outputs": [],
   "source": [
    "df2 = pd.DataFrame([x_under,y_under,min_under,team_under,xG_under,player_under,result_under],index=names)\n",
    "df2 = df2.T\n",
    "\n",
    "df2['x'] = pd.to_numeric(df2['x'])\n",
    "df2['y'] = pd.to_numeric(df2['y'])\n",
    "df2['xG'] = pd.to_numeric(df2['xG'])\n",
    "df2['minute'] = pd.to_numeric(df2['minute'])\n",
    "\n",
    "df2['x'] = df2['x']*100\n",
    "df2['y'] = df2['y']*100\n",
    "\n",
    "hteam = df2['team'].iloc[0]\n",
    "ateam = df2['team'].iloc[-1]"
   ]
  },
  {
   "cell_type": "code",
   "execution_count": 13,
   "metadata": {},
   "outputs": [
    {
     "ename": "NameError",
     "evalue": "name 'background' is not defined",
     "output_type": "error",
     "traceback": [
      "\u001b[0;31m---------------------------------------------------------------------------\u001b[0m",
      "\u001b[0;31mNameError\u001b[0m                                 Traceback (most recent call last)",
      "\u001b[0;32m<ipython-input-13-d9662be3ef85>\u001b[0m in \u001b[0;36m<module>\u001b[0;34m\u001b[0m\n\u001b[1;32m      3\u001b[0m \u001b[0;34m\u001b[0m\u001b[0m\n\u001b[1;32m      4\u001b[0m \u001b[0mfig\u001b[0m\u001b[0;34m,\u001b[0m \u001b[0max\u001b[0m \u001b[0;34m=\u001b[0m \u001b[0mplt\u001b[0m\u001b[0;34m.\u001b[0m\u001b[0msubplots\u001b[0m\u001b[0;34m(\u001b[0m\u001b[0mfigsize\u001b[0m\u001b[0;34m=\u001b[0m\u001b[0;34m(\u001b[0m\u001b[0;36m10\u001b[0m\u001b[0;34m,\u001b[0m\u001b[0;36m10\u001b[0m\u001b[0;34m)\u001b[0m\u001b[0;34m)\u001b[0m\u001b[0;34m\u001b[0m\u001b[0;34m\u001b[0m\u001b[0m\n\u001b[0;32m----> 5\u001b[0;31m \u001b[0mfig\u001b[0m\u001b[0;34m.\u001b[0m\u001b[0mset_facecolor\u001b[0m\u001b[0;34m(\u001b[0m\u001b[0mbackground\u001b[0m\u001b[0;34m)\u001b[0m\u001b[0;34m\u001b[0m\u001b[0;34m\u001b[0m\u001b[0m\n\u001b[0m\u001b[1;32m      6\u001b[0m \u001b[0max\u001b[0m\u001b[0;34m.\u001b[0m\u001b[0mpatch\u001b[0m\u001b[0;34m.\u001b[0m\u001b[0mset_facecolor\u001b[0m\u001b[0;34m(\u001b[0m\u001b[0mbackground\u001b[0m\u001b[0;34m)\u001b[0m\u001b[0;34m\u001b[0m\u001b[0;34m\u001b[0m\u001b[0m\n\u001b[1;32m      7\u001b[0m \u001b[0mdraw_field\u001b[0m\u001b[0;34m(\u001b[0m\u001b[0;34m)\u001b[0m\u001b[0;34m\u001b[0m\u001b[0;34m\u001b[0m\u001b[0m\n",
      "\u001b[0;31mNameError\u001b[0m: name 'background' is not defined"
     ]
    },
    {
     "data": {
      "image/png": "[encoded data removed]",
      "text/plain": [
       "<Figure size 720x720 with 1 Axes>"
      ]
     },
     "metadata": {
      "needs_background": "light"
     },
     "output_type": "display_data"
    }
   ],
   "source": [
    "g_label = 'Goal'\n",
    "m_label = 'Miss'\n",
    "\n",
    "fig, ax = plt.subplots(figsize=(10,10))\n",
    "fig.set_facecolor(background)\n",
    "ax.patch.set_facecolor(background)\n",
    "draw_field()\n",
    "\n",
    "\n",
    "\n",
    "for x in range(len(df2['x'])):\n",
    "    if df2['team'][x] == ateam:\n",
    "        if df2['result'][x] == 'Goal': \n",
    "            plt.scatter(df2['x'][x],df2['y'][x], color = 'green',s=df2['xG'][x]*400,label=g_label,edgecolor='white',linewidth=2)\n",
    "            g_label=\"_nolegend_\"\n",
    "        else:\n",
    "            plt.scatter(df2['x'][x],df2['y'][x], color = '#ff4d4d',s=df2['xG'][x]*400,label=m_label,edgecolor='white',marker='X')\n",
    "            m_label = \"_nolegend_\"\n",
    "            \n",
    "    if df2['team'][x] == hteam:\n",
    "        if df2['result'][x] == 'Goal': \n",
    "            plt.scatter(df2['x'][x],df2['y'][x], color = 'green',s=df2['xG'][x]*400,label=g_label,edgecolor='white',linewidth=2)\n",
    "            g_label=\"_nolegend_\"\n",
    "        else:\n",
    "            plt.scatter(df2['x'][x],df2['y'][x], color = '#ff4d4d',s=df2['xG'][x]*400,label=m_label,edgecolor='white',marker='X')\n",
    "            m_label = \"_nolegend_\" \n",
    "            \n",
    "\n",
    "plt.annotate(xy=(101,75),s='Bigger Circle = Higher xG',fontname='Andale Mono',fontsize=12)\n",
    "plt.annotate(s=ateam,xy=(10,15),fontname='Andale Mono',fontsize=16)\n",
    "plt.annotate(s=hteam,xy=(70,15),fontname='Andale Mono',fontsize=16)\n",
    "plt.title((f\"{ateam} vs {hteam} Shotmap\"),fontname='Andale Mono',fontsize=18)\n",
    "plt.legend(bbox_to_anchor = [0.945, 0.985],fontsize=12,markerscale=2,facecolor='lightgrey',edgecolor='white',fancybox=False)\n",
    "plt.savefig('test.png',dpi=300)"
   ]
  },
  {
   "cell_type": "code",
   "execution_count": 14,
   "metadata": {},
   "outputs": [],
   "source": [
    "a_xG = []\n",
    "h_xG = []\n",
    "a_min = []\n",
    "h_min = []\n",
    "\n",
    "for x in range(len(df2['xG'])):\n",
    "    if df2['team'][x] == ateam:\n",
    "        a_xG.append(df2['xG'][x])\n",
    "        a_min.append(df2['minute'][x])\n",
    "    if df2['team'][x] == hteam:\n",
    "        h_xG.append(df2['xG'][x])\n",
    "        h_min.append(df2['minute'][x])\n",
    "    \n",
    "def nums_cumulative_sum(nums_list):\n",
    "  return [sum(nums_list[:i+1]) for i in range(len(nums_list))]\n",
    "\n",
    "acum = nums_cumulative_sum(a_xG)\n",
    "hcum = nums_cumulative_sum(h_xG)"
   ]
  },
  {
   "cell_type": "code",
   "execution_count": 26,
   "metadata": {},
   "outputs": [
    {
     "name": "stderr",
     "output_type": "stream",
     "text": [
      "/Users/mckayjohns/opt/anaconda3/lib/python3.7/site-packages/ipykernel_launcher.py:50: UserWarning: This figure includes Axes that are not compatible with tight_layout, so results might be incorrect.\n"
     ]
    },
    {
     "data": {
      "image/png": "[encoded data removed]",
      "text/plain": [
       "<Figure size 720x360 with 2 Axes>"
      ]
     },
     "metadata": {},
     "output_type": "display_data"
    }
   ],
   "source": [
    "background = \"#313332\"\n",
    "text_color = 'w'\n",
    "primary = 'red'\n",
    "secondary = 'lightblue'\n",
    "mpl.rcParams['xtick.color'] = text_color\n",
    "mpl.rcParams['ytick.color'] = text_color\n",
    "\n",
    "#create figure and axes\n",
    "fig, ax = plt.subplots(figsize=(10,5))\n",
    "fig.set_facecolor(background)\n",
    "ax.patch.set_facecolor(background)\n",
    "\n",
    "#adding a grid\n",
    "ax.grid(ls='dotted',lw=.5,color='lightgrey',axis='both',zorder=1)\n",
    "\n",
    "#plt.xticks([0,15,30,45,60,75,90])        \n",
    "plt.xlabel('Minute',fontname='Andale Mono',color=text_color)\n",
    "plt.ylabel('xG',fontname='Andale Mono',color=text_color)\n",
    "\n",
    "spines = ['top','bottom','left','right']\n",
    "for x in spines:\n",
    "    if x in spines:\n",
    "        ax.spines[x].set_visible(False)\n",
    "\n",
    "ax.step(a_min,acum,color='r',label=ateam,linewidth=5,where='post')\n",
    "ax.step(h_min,hcum,color='lightblue',label=hteam,linewidth=5,where='post')\n",
    "\n",
    "\n",
    "s = \"<{}> vs <{}> xG Flow\\nFinal: <2>-<2>\"\n",
    "htext.fig_htext(s.format(ateam,hteam),\n",
    "                x=.2,y=.99,\n",
    "                highlight_weights=['bold'],\n",
    "                string_weight='bold',\n",
    "                fontsize=18,\n",
    "                fontfamily='Andale Mono',\n",
    "                color=text_color,\n",
    "                highlight_colors=[primary,secondary,primary,secondary])\n",
    "\n",
    "#add logo\n",
    "ax2=fig.add_axes([.02,.98,.2,.2])\n",
    "ax2.axis('off')\n",
    "url = \"https://logos-world.net/wp-content/uploads/2020/04/Barcelona-Logo-700x394.png\"\n",
    "response = requests.get(url)\n",
    "img=Image.open(BytesIO(response.content))\n",
    "ax2.imshow(img)\n",
    "\n",
    "#add credentials\n",
    "fig.text(.1,-.025,\"@mckayjohns / data via understat.com\",fontstyle='italic',fontsize=9,fontfamily='Andale Mono',color=text_color)\n",
    "\n",
    "plt.tight_layout()\n",
    "plt.savefig('xgflow.png',dpi=300,bbox_inches = 'tight',facecolor=background)"
   ]
  },
  {
   "cell_type": "code",
   "execution_count": null,
   "metadata": {},
   "outputs": [],
   "source": []
  }
 ],
 "metadata": {
  "kernelspec": {
   "display_name": "Python 3",
   "language": "python",
   "name": "python3"
  },
  "language_info": {
   "codemirror_mode": {
    "name": "ipython",
    "version": 3
   },
   "file_extension": ".py",
   "mimetype": "text/x-python",
   "name": "python",
   "nbconvert_exporter": "python",
   "pygments_lexer": "ipython3",
   "version": "3.7.6"
  }
 },
 "nbformat": 4,
 "nbformat_minor": 4
}
